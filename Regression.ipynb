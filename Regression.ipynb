{
  "nbformat": 4,
  "nbformat_minor": 0,
  "metadata": {
    "colab": {
      "private_outputs": true,
      "provenance": [],
      "authorship_tag": "ABX9TyMiHA3azGvFmSD5lHI2AF0C",
      "include_colab_link": true
    },
    "kernelspec": {
      "name": "python3",
      "display_name": "Python 3"
    },
    "language_info": {
      "name": "python"
    }
  },
  "cells": [
    {
      "cell_type": "markdown",
      "metadata": {
        "id": "view-in-github",
        "colab_type": "text"
      },
      "source": [
        "<a href=\"https://colab.research.google.com/github/saturn70/Python_Mercury/blob/main/Regression.ipynb\" target=\"_parent\"><img src=\"https://colab.research.google.com/assets/colab-badge.svg\" alt=\"Open In Colab\"/></a>"
      ]
    },
    {
      "cell_type": "markdown",
      "source": [
        "\n",
        "# Regression analysis\n",
        "\n",
        "### It is a statistical technique used to model and analyze the **relationship** between a **dependent variable** and one or more **independent variables**."
      ],
      "metadata": {
        "id": "A-G3dAQbiVA5"
      }
    },
    {
      "cell_type": "markdown",
      "source": [
        "# Common regression models -\n",
        "### 1. Linear Regression\n",
        "### 2. Polynomial Regression\n",
        "### 3. Ridge Regression\n",
        "### 4. Lasso Regression\n",
        "### 5. ElasticNet Regression\n",
        "### 6. Support Vector Regression\n",
        "### 7. Decision Tree Regression\n",
        "### 8. Random Forest Regression"
      ],
      "metadata": {
        "id": "0OHPHaJih_mE"
      }
    },
    {
      "cell_type": "markdown",
      "source": [
        "## Import Libraries"
      ],
      "metadata": {
        "id": "4-uADiEMi0KO"
      }
    },
    {
      "cell_type": "code",
      "execution_count": null,
      "metadata": {
        "id": "40FzZYfzceyO"
      },
      "outputs": [],
      "source": [
        "import numpy as np\n",
        "import pandas as pd\n",
        "from sklearn.model_selection import train_test_split\n",
        "from sklearn.linear_model import LinearRegression\n",
        "from sklearn.metrics import mean_squared_error, r2_score\n",
        "import matplotlib.pyplot as plt"
      ]
    },
    {
      "cell_type": "markdown",
      "source": [
        "## Load Data"
      ],
      "metadata": {
        "id": "opTxHGKci31Q"
      }
    },
    {
      "cell_type": "code",
      "source": [
        "# Load and prepare your data\n",
        "data = pd.read_csv('https://raw.githubusercontent.com/saturn70/R_Projects/main/Trees/trees.csv')\n",
        "data.head()"
      ],
      "metadata": {
        "id": "StQnDFHui5Wr"
      },
      "execution_count": null,
      "outputs": []
    },
    {
      "cell_type": "markdown",
      "source": [
        "## Independent Variable - X\n",
        "## Dependent Variable - y"
      ],
      "metadata": {
        "id": "FbLx40B6kbDe"
      }
    },
    {
      "cell_type": "code",
      "source": [
        "X = data[['Girth','Height']]\n",
        "y = data['Volume']"
      ],
      "metadata": {
        "id": "uDzTj00ZkWVT"
      },
      "execution_count": null,
      "outputs": []
    },
    {
      "cell_type": "code",
      "source": [
        "print(X.head())"
      ],
      "metadata": {
        "id": "CkVEUlcolHSb"
      },
      "execution_count": null,
      "outputs": []
    },
    {
      "cell_type": "code",
      "source": [
        "print(y.head())"
      ],
      "metadata": {
        "id": "hP83CTvRlNXr"
      },
      "execution_count": null,
      "outputs": []
    },
    {
      "cell_type": "markdown",
      "source": [
        "## Split the data into training and testing sets"
      ],
      "metadata": {
        "id": "-YeFXSZ9lmDn"
      }
    },
    {
      "cell_type": "code",
      "source": [
        "# Split the data into training and testing sets\n",
        "X_train, X_test, y_train, y_test = train_test_split(X, y, test_size=0.3, random_state=42)"
      ],
      "metadata": {
        "id": "JnPnUJvYlf3R"
      },
      "execution_count": null,
      "outputs": []
    },
    {
      "cell_type": "code",
      "source": [
        "print(X_train.head())\n",
        "print(X_test.head())\n",
        "print(y_train.head())\n",
        "print(y_test.head())"
      ],
      "metadata": {
        "id": "00CLX_vllrjs"
      },
      "execution_count": null,
      "outputs": []
    },
    {
      "cell_type": "markdown",
      "source": [
        "## Create a model\n",
        "## **LinearRegression()**"
      ],
      "metadata": {
        "id": "WPGaitHymDQ2"
      }
    },
    {
      "cell_type": "code",
      "source": [
        "# Create a linear regression model\n",
        "model = LinearRegression()\n",
        "print(model)"
      ],
      "metadata": {
        "id": "a664tdPwl3HA"
      },
      "execution_count": null,
      "outputs": []
    },
    {
      "cell_type": "code",
      "source": [
        "# Train the model on the training data\n",
        "model.fit(X_train, y_train)"
      ],
      "metadata": {
        "id": "8Tg3rIn4mAYl"
      },
      "execution_count": null,
      "outputs": []
    },
    {
      "cell_type": "code",
      "source": [
        "# Make predictions on the test data\n",
        "y_pred = model.predict(X_test)\n",
        "print(y_pred)"
      ],
      "metadata": {
        "id": "U53Y0IgNmCM8"
      },
      "execution_count": null,
      "outputs": []
    },
    {
      "cell_type": "code",
      "source": [
        "# Evaluate the model\n",
        "mse = mean_squared_error(y_test, y_pred)\n",
        "r2 = r2_score(y_test, y_pred)\n",
        "print(mse)\n",
        "print(r2)"
      ],
      "metadata": {
        "id": "uf5goHfvmXX2"
      },
      "execution_count": null,
      "outputs": []
    },
    {
      "cell_type": "code",
      "source": [
        "# Visualize\n",
        "plt.plot(X_test,y_test,color='blue')\n",
        "plt.show()"
      ],
      "metadata": {
        "id": "tLGefaFomZBS"
      },
      "execution_count": null,
      "outputs": []
    },
    {
      "cell_type": "code",
      "source": [
        "plt.plot(X_test, y_pred, color='red', linewidth=2)\n",
        "plt.show()"
      ],
      "metadata": {
        "id": "stq-K1VSmyQn"
      },
      "execution_count": null,
      "outputs": []
    },
    {
      "cell_type": "markdown",
      "source": [
        "# Polynomial Regression\n",
        "## Create a model"
      ],
      "metadata": {
        "id": "ed8JYH2vn5vS"
      }
    },
    {
      "cell_type": "code",
      "source": [
        "import numpy as np\n",
        "from sklearn.preprocessing import PolynomialFeatures\n",
        "from sklearn.linear_model import LinearRegression\n",
        "import matplotlib.pyplot as plt"
      ],
      "metadata": {
        "id": "4pvfJQiUn7AC"
      },
      "execution_count": null,
      "outputs": []
    },
    {
      "cell_type": "code",
      "source": [
        "print(X.head())"
      ],
      "metadata": {
        "id": "y3Pme3Pxp9_h"
      },
      "execution_count": null,
      "outputs": []
    },
    {
      "cell_type": "code",
      "source": [
        "# Reshape X to a column vector\n",
        "#X = X.reshape(10,2)\n",
        "#X = np.column_stack((X1, X2))"
      ],
      "metadata": {
        "id": "54PJOR7vqDhY"
      },
      "execution_count": null,
      "outputs": []
    },
    {
      "cell_type": "code",
      "source": [
        "# Create polynomial features (e.g., 2nd-degree polynomial)\n",
        "from sklearn.preprocessing import PolynomialFeatures\n",
        "poly = PolynomialFeatures(degree=2)\n",
        "X_poly = poly.fit_transform(X)"
      ],
      "metadata": {
        "id": "12mFn4vzp2sO"
      },
      "execution_count": null,
      "outputs": []
    },
    {
      "cell_type": "code",
      "source": [
        "# Fit a linear regression model to the polynomial features\n",
        "model = LinearRegression()\n",
        "model.fit(X_poly, y)"
      ],
      "metadata": {
        "id": "VFGK0Y3WrJxi"
      },
      "execution_count": null,
      "outputs": []
    },
    {
      "cell_type": "code",
      "source": [
        "# Generate predictions\n",
        "X_pred = np.linspace(1, 5, 100).reshape(-2, 2)\n",
        "#X_pred = np.linspace(1, 5, 100)\n",
        "print(X_pred)"
      ],
      "metadata": {
        "id": "j8sOdw6qrLnr"
      },
      "execution_count": null,
      "outputs": []
    },
    {
      "cell_type": "code",
      "source": [
        "X_pred_poly = poly.transform(X_pred)\n",
        "print(X_pred_poly)"
      ],
      "metadata": {
        "id": "iz6vMqvxrpCs"
      },
      "execution_count": null,
      "outputs": []
    },
    {
      "cell_type": "code",
      "source": [
        "y_pred = model.predict(X_pred_poly)\n",
        "print(y_pred)"
      ],
      "metadata": {
        "id": "aMqKxhNDr9z_"
      },
      "execution_count": null,
      "outputs": []
    },
    {
      "cell_type": "code",
      "source": [
        "# Visualize the results\n",
        "plt.plot(X, y, color='blue', label='Data')\n",
        "plt.show()"
      ],
      "metadata": {
        "id": "KInlFfk2rOsd"
      },
      "execution_count": null,
      "outputs": []
    },
    {
      "cell_type": "code",
      "source": [
        "plt.plot(X_pred, y_pred, color='red', label='Polynomial Regression (degree=2)')\n",
        "plt.xlabel('X')\n",
        "plt.ylabel('Y')\n",
        "plt.legend()\n",
        "plt.show()"
      ],
      "metadata": {
        "id": "Q8CQzRQevNAx"
      },
      "execution_count": null,
      "outputs": []
    },
    {
      "cell_type": "markdown",
      "source": [
        "# Ridge Regression"
      ],
      "metadata": {
        "id": "XL-mhG45v-Ha"
      }
    },
    {
      "cell_type": "code",
      "source": [
        "import numpy as np\n",
        "import pandas as pd\n",
        "import matplotlib.pyplot as plt\n",
        "from sklearn.linear_model import Ridge\n",
        "from sklearn.model_selection import train_test_split\n",
        "from sklearn.metrics import mean_squared_error, r2_score\n"
      ],
      "metadata": {
        "id": "Y9LQBNf-jWXr"
      },
      "execution_count": null,
      "outputs": []
    },
    {
      "cell_type": "code",
      "source": [
        "#alpha = 1.0  # You can adjust the alpha value to control the regularization strength\n",
        "ridge_model = Ridge(alpha=1)\n",
        "ridge_model.fit(X_train, y_train)"
      ],
      "metadata": {
        "id": "IW-CbCyxj48U"
      },
      "execution_count": null,
      "outputs": []
    },
    {
      "cell_type": "code",
      "source": [
        "y_pred = ridge_model.predict(X_test)\n",
        "print(y_pred)"
      ],
      "metadata": {
        "id": "Jxbx6c8PkIaI"
      },
      "execution_count": null,
      "outputs": []
    },
    {
      "cell_type": "code",
      "source": [
        "mse = mean_squared_error(y_test, y_pred)\n",
        "r2 = r2_score(y_test, y_pred)\n",
        "print(f'Mean Squared Error: {mse}')\n",
        "print(f'R-squared (R2) Score: {r2}')"
      ],
      "metadata": {
        "id": "bf7c1cWSl4nk"
      },
      "execution_count": null,
      "outputs": []
    },
    {
      "cell_type": "code",
      "source": [
        "plt.plot(X_test, y_test, color='orange', label='Actual Data')\n",
        "plt.show()"
      ],
      "metadata": {
        "id": "tyh1_UQ50WGH"
      },
      "execution_count": null,
      "outputs": []
    },
    {
      "cell_type": "code",
      "source": [
        "plt.plot(X_test, y_pred, color='red', linewidth=1.5, label='Ridge Regression')\n",
        "plt.xlabel('X')\n",
        "plt.ylabel('Y')\n",
        "plt.legend()\n",
        "plt.show()"
      ],
      "metadata": {
        "id": "_LAoDttV0foK"
      },
      "execution_count": null,
      "outputs": []
    },
    {
      "cell_type": "markdown",
      "source": [
        "# Lasso Regression"
      ],
      "metadata": {
        "id": "mlD5phfu3Aqp"
      }
    },
    {
      "cell_type": "code",
      "source": [
        "import numpy as np\n",
        "import pandas as pd\n",
        "import matplotlib.pyplot as plt\n",
        "from sklearn.linear_model import Lasso\n",
        "from sklearn.model_selection import train_test_split\n",
        "from sklearn.metrics import mean_squared_error, r2_score\n"
      ],
      "metadata": {
        "id": "kPAFwnyu-4cW"
      },
      "execution_count": null,
      "outputs": []
    },
    {
      "cell_type": "code",
      "source": [
        "X_train, X_test, y_train, y_test = train_test_split(X, y, test_size=0.2, random_state=42)"
      ],
      "metadata": {
        "id": "_0yuZiON_Inq"
      },
      "execution_count": null,
      "outputs": []
    },
    {
      "cell_type": "code",
      "source": [
        "#alpha = 1.0  # You can adjust the alpha value to control the regularization strength\n",
        "lasso_model = Lasso(alpha = alpha)\n",
        "lasso_model.fit(X_train, y_train)"
      ],
      "metadata": {
        "id": "Uv6m_AQH_HeY"
      },
      "execution_count": null,
      "outputs": []
    },
    {
      "cell_type": "markdown",
      "source": [
        "## Model Predict"
      ],
      "metadata": {
        "id": "AZNfkc_FAnRh"
      }
    },
    {
      "cell_type": "code",
      "source": [
        "y_pred=lasso_model.predict(X_test)\n",
        "print(y_pred)"
      ],
      "metadata": {
        "id": "WTKG9fsvAdny"
      },
      "execution_count": null,
      "outputs": []
    },
    {
      "cell_type": "markdown",
      "source": [
        "## Evaluate Model"
      ],
      "metadata": {
        "id": "aVngs_LDBHNW"
      }
    },
    {
      "cell_type": "code",
      "source": [
        "mse = mean_squared_error(y_test,y_pred)\n",
        "r2 = r2_score(y_test,y_pred)\n",
        "print(mse)\n",
        "print(r2)"
      ],
      "metadata": {
        "id": "maPCX7OgAqGe"
      },
      "execution_count": null,
      "outputs": []
    },
    {
      "cell_type": "code",
      "source": [
        "plt.plot(X_test, y_test, color='blue', label='Actual Data')\n",
        "plt.show()"
      ],
      "metadata": {
        "id": "O4IItoOeBjrF"
      },
      "execution_count": null,
      "outputs": []
    },
    {
      "cell_type": "code",
      "source": [
        "plt.plot(X_test, y_pred, color='red', linewidth=2, label='Lasso Regression Prediction')\n",
        "plt.xlabel('X')\n",
        "plt.ylabel('Y')\n",
        "plt.legend()\n",
        "plt.show()"
      ],
      "metadata": {
        "id": "_SZ4AkMYCahR"
      },
      "execution_count": null,
      "outputs": []
    },
    {
      "cell_type": "markdown",
      "source": [
        "# ElasticNet regression\n",
        "## It is a linear regression technique that combines both L1 (Lasso) and L2 (Ridge) regularization. It adds a penalty term to the linear regression cost function that includes both L1 and L2 regularization terms.\n",
        "\n",
        "## This combination allows ElasticNet to handle multicollinearity (correlation between independent variables) while also encouraging feature selection"
      ],
      "metadata": {
        "id": "YhnXA5ZDEGNo"
      }
    },
    {
      "cell_type": "code",
      "source": [
        "import numpy as np\n",
        "import pandas as pd\n",
        "import matplotlib.pyplot as plt\n",
        "from sklearn.linear_model import ElasticNet\n",
        "from sklearn.model_selection import train_test_split\n",
        "from sklearn.metrics import mean_squared_error, r2_score"
      ],
      "metadata": {
        "id": "uLO-wWe9ED5Y"
      },
      "execution_count": null,
      "outputs": []
    },
    {
      "cell_type": "code",
      "source": [
        "X_train, X_test, y_train, y_test = train_test_split(X, y, test_size=0.2, random_state=42)"
      ],
      "metadata": {
        "id": "uP3LEhDGiyXC"
      },
      "execution_count": null,
      "outputs": []
    },
    {
      "cell_type": "code",
      "source": [
        "alpha = 1.0  # You can adjust the alpha value to control the regularization strength\n",
        "l1_ratio = 0.5  # You can adjust the ratio between L1 and L2 regularization\n",
        "elasticnet_model = ElasticNet(alpha=alpha, l1_ratio=l1_ratio)\n",
        "elasticnet_model.fit(X_train, y_train)"
      ],
      "metadata": {
        "id": "iTGjVFIjcbxc"
      },
      "execution_count": null,
      "outputs": []
    },
    {
      "cell_type": "code",
      "source": [
        "y_pred = elasticnet_model.predict(X_test)\n",
        "print(y_pred)"
      ],
      "metadata": {
        "id": "9GYArXvRclpl"
      },
      "execution_count": null,
      "outputs": []
    },
    {
      "cell_type": "code",
      "source": [
        "mse = mean_squared_error(y_test, y_pred)\n",
        "r2 = r2_score(y_test, y_pred)\n",
        "print(f'Mean Squared Error: {mse}')\n",
        "print(f'R-squared (R2) Score: {r2}')"
      ],
      "metadata": {
        "id": "hTiVQsuxcror"
      },
      "execution_count": null,
      "outputs": []
    },
    {
      "cell_type": "code",
      "source": [
        "plt.plot(X_test, y_test, color='blue', label='Actual Data')\n",
        "plt.show()"
      ],
      "metadata": {
        "id": "uuABa7YUcvMk"
      },
      "execution_count": null,
      "outputs": []
    },
    {
      "cell_type": "code",
      "source": [
        "plt.plot(X_test, y_pred, color='red', linewidth=2, label='ElasticNet Regression Prediction')\n",
        "plt.xlabel('X')\n",
        "plt.ylabel('Y')\n",
        "plt.legend()\n",
        "plt.show()"
      ],
      "metadata": {
        "id": "eQr-C45Pc1H1"
      },
      "execution_count": null,
      "outputs": []
    },
    {
      "cell_type": "markdown",
      "source": [
        "# Support Vector Regression"
      ],
      "metadata": {
        "id": "Y5xAwfGod2eZ"
      }
    },
    {
      "cell_type": "code",
      "source": [
        "import numpy as np\n",
        "import pandas as pd\n",
        "from sklearn.svm import SVR\n",
        "from sklearn.model_selection import train_test_split\n",
        "from sklearn.metrics import mean_squared_error, r2_score\n",
        "import matplotlib.pyplot as plt"
      ],
      "metadata": {
        "id": "kKBtquEYd7jO"
      },
      "execution_count": null,
      "outputs": []
    },
    {
      "cell_type": "code",
      "source": [
        "X_train, X_test, y_train, y_test = train_test_split(X, y, test_size=0.2, random_state=42)"
      ],
      "metadata": {
        "id": "e7FOUb2Ci18w"
      },
      "execution_count": null,
      "outputs": []
    },
    {
      "cell_type": "code",
      "source": [
        "# Example with a Radial Basis Function (RBF) kernel\n",
        "svr_model = SVR(kernel='rbf', C=1.0, epsilon=0.2)\n",
        "svr_model.fit(X_train, y_train)"
      ],
      "metadata": {
        "id": "qkq7j9MWd8w1"
      },
      "execution_count": null,
      "outputs": []
    },
    {
      "cell_type": "code",
      "source": [
        "y_pred = svr_model.predict(X_test)\n",
        "print(y_pred)"
      ],
      "metadata": {
        "id": "60wwyrP5eIiG"
      },
      "execution_count": null,
      "outputs": []
    },
    {
      "cell_type": "code",
      "source": [
        "mse = mean_squared_error(y_test, y_pred)\n",
        "r2 = r2_score(y_test, y_pred)\n",
        "print(f'Mean Squared Error: {mse}')\n",
        "print(f'R-squared (R2) Score: {r2}')"
      ],
      "metadata": {
        "id": "aNd-q50DeQkg"
      },
      "execution_count": null,
      "outputs": []
    },
    {
      "cell_type": "code",
      "source": [
        "plt.plot(X_test, y_test, color='blue', label='Actual Data')\n",
        "plt.show()"
      ],
      "metadata": {
        "id": "yAZ5VexweUQs"
      },
      "execution_count": null,
      "outputs": []
    },
    {
      "cell_type": "code",
      "source": [
        "plt.plot(X_test, y_pred, color='red', linewidth=2, label='SVR Prediction')\n",
        "plt.xlabel('X')\n",
        "plt.ylabel('Y')\n",
        "plt.legend()\n",
        "plt.show()"
      ],
      "metadata": {
        "id": "3CEk5YZyebZZ"
      },
      "execution_count": null,
      "outputs": []
    },
    {
      "cell_type": "code",
      "source": [
        "import numpy as np\n",
        "import pandas as pd\n",
        "import matplotlib.pyplot as plt\n",
        "from sklearn.tree import DecisionTreeRegressor\n",
        "from sklearn.model_selection import train_test_split\n",
        "from sklearn.metrics import mean_squared_error, r2_score"
      ],
      "metadata": {
        "id": "cuziDj6rfzp3"
      },
      "execution_count": null,
      "outputs": []
    },
    {
      "cell_type": "code",
      "source": [
        "X_train, X_test, y_train, y_test = train_test_split(X, y, test_size=0.2, random_state=42)"
      ],
      "metadata": {
        "id": "-UlaryHVi7Bq"
      },
      "execution_count": null,
      "outputs": []
    },
    {
      "cell_type": "code",
      "source": [
        "decision_tree_model = DecisionTreeRegressor(random_state=0)  # You can specify other hyperparameters as well\n",
        "decision_tree_model.fit(X, y)"
      ],
      "metadata": {
        "id": "Wg3rkhdBf44w"
      },
      "execution_count": null,
      "outputs": []
    },
    {
      "cell_type": "code",
      "source": [
        "y_pred = decision_tree_model.predict(X)"
      ],
      "metadata": {
        "id": "c6nYNor4gd0Z"
      },
      "execution_count": null,
      "outputs": []
    },
    {
      "cell_type": "code",
      "source": [
        "mse = mean_squared_error(y, y_pred)\n",
        "r2 = r2_score(y, y_pred)\n",
        "print(f'Mean Squared Error: {mse}')\n",
        "print(f'R-squared (R2) Score: {r2}')"
      ],
      "metadata": {
        "id": "svsJSRWJf-Sm"
      },
      "execution_count": null,
      "outputs": []
    },
    {
      "cell_type": "code",
      "source": [
        "plt.plot(X, y, color='blue', label='Actual Data')\n",
        "plt.show()\n"
      ],
      "metadata": {
        "id": "RwdM8qERgkdr"
      },
      "execution_count": null,
      "outputs": []
    },
    {
      "cell_type": "code",
      "source": [
        "plt.plot(X, y_pred, color='red', label='Decision Tree Regression Prediction')\n",
        "plt.xlabel('X')\n",
        "plt.ylabel('Y')\n",
        "plt.legend()\n",
        "plt.show()"
      ],
      "metadata": {
        "id": "_0QIo-NogqiM"
      },
      "execution_count": null,
      "outputs": []
    },
    {
      "cell_type": "markdown",
      "source": [
        "# Random Forest"
      ],
      "metadata": {
        "id": "WKAxsELohXm0"
      }
    },
    {
      "cell_type": "code",
      "source": [
        "import numpy as np\n",
        "import pandas as pd\n",
        "import matplotlib.pyplot as plt\n",
        "from sklearn.ensemble import RandomForestRegressor\n",
        "from sklearn.model_selection import train_test_split\n",
        "from sklearn.metrics import mean_squared_error, r2_score"
      ],
      "metadata": {
        "id": "fQ1YjODThUkz"
      },
      "execution_count": null,
      "outputs": []
    },
    {
      "cell_type": "code",
      "source": [
        "X_train, X_test, y_train, y_test = train_test_split(X, y, test_size=0.2, random_state=42)"
      ],
      "metadata": {
        "id": "PK3_pIrjjBRn"
      },
      "execution_count": null,
      "outputs": []
    },
    {
      "cell_type": "code",
      "source": [
        "#n_estimators = 100  # You can adjust the number of trees\n",
        "random_forest_model = RandomForestRegressor(n_estimators=100, random_state=0)\n",
        "random_forest_model.fit(X_train, y_train)"
      ],
      "metadata": {
        "id": "ho8E_GLFhawa"
      },
      "execution_count": null,
      "outputs": []
    },
    {
      "cell_type": "code",
      "source": [
        "y_pred = random_forest_model.predict(X_test)\n",
        "print(y_pred)"
      ],
      "metadata": {
        "id": "EbytIWS2hgst"
      },
      "execution_count": null,
      "outputs": []
    },
    {
      "cell_type": "code",
      "source": [
        "mse = mean_squared_error(y_test, y_pred)\n",
        "r2 = r2_score(y_test, y_pred)\n",
        "print(f'Mean Squared Error: {mse}')\n",
        "print(f'R-squared (R2) Score: {r2}')"
      ],
      "metadata": {
        "id": "t56MUleviEtw"
      },
      "execution_count": null,
      "outputs": []
    },
    {
      "cell_type": "code",
      "source": [
        "plt.plot(X_test, y_test, color='blue', label='Actual Data')\n",
        "plt.show()"
      ],
      "metadata": {
        "id": "28KYGTZviTkj"
      },
      "execution_count": null,
      "outputs": []
    }
  ]
}